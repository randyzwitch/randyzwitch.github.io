{
 "cells": [
  {
   "cell_type": "markdown",
   "metadata": {},
   "source": [
    "### Native Julia implementation - cellwise"
   ]
  },
  {
   "cell_type": "code",
   "execution_count": 1,
   "metadata": {},
   "outputs": [
    {
     "data": {
      "text/plain": [
       "haversine (generic function with 1 method)"
      ]
     },
     "execution_count": 1,
     "metadata": {},
     "output_type": "execute_result"
    }
   ],
   "source": [
    "#https://github.com/quinnj/Rosetta-Julia/blob/master/src/Haversine.jl\n",
    "haversine(lat1::Float32,lon1::Float32,lat2::Float32,lon2::Float32) = 2 * 6372.8 * asin(sqrt(sind((lat2-lat1)/2)^2 + cosd(lat1) * cosd(lat2) * sind((lon2 - lon1)/2)^2))"
   ]
  },
  {
   "cell_type": "code",
   "execution_count": 2,
   "metadata": {},
   "outputs": [
    {
     "data": {
      "text/plain": [
       "pairwise_dist (generic function with 1 method)"
      ]
     },
     "execution_count": 2,
     "metadata": {},
     "output_type": "execute_result"
    }
   ],
   "source": [
    "function pairwise_dist(lat::Vector{Float32}, lon::Vector{Float32})\n",
    "    \n",
    "    #Pre-allocate, since size is known\n",
    "    n = length(lat)\n",
    "    result = Array{Float32}(n, n)\n",
    "    \n",
    "    #Brute force fill in each cell, ignore that distance [i,j] = distance [j,i]\n",
    "    for i in 1:n\n",
    "        for j in 1:n\n",
    "            @inbounds result[i, j] = haversine(lat[i], lon[i], lat[j], lon[j])\n",
    "        end\n",
    "    end\n",
    "    \n",
    "    return result\n",
    "    \n",
    "end"
   ]
  },
  {
   "cell_type": "code",
   "execution_count": 3,
   "metadata": {},
   "outputs": [
    {
     "name": "stdout",
     "output_type": "stream",
     "text": [
      "  0.037690 seconds (28.83 k allocations: 1.627 MiB)\n"
     ]
    }
   ],
   "source": [
    "#Generate reasonable data\n",
    "lat1 = rand(Float32, 1) .* 45\n",
    "lon1 = rand(Float32, 1) .* -120\n",
    "\n",
    "@time pairwise_dist(lat1, lon1);"
   ]
  },
  {
   "cell_type": "code",
   "execution_count": 4,
   "metadata": {},
   "outputs": [
    {
     "name": "stdout",
     "output_type": "stream",
     "text": [
      "  0.000024 seconds (5 allocations: 704 bytes)\n"
     ]
    }
   ],
   "source": [
    "#Generate reasonable data\n",
    "lat10 = rand(Float32, 10) .* 45\n",
    "lon10 = rand(Float32, 10) .* -120\n",
    "\n",
    "@time pairwise_dist(lat10, lon10);"
   ]
  },
  {
   "cell_type": "code",
   "execution_count": 5,
   "metadata": {},
   "outputs": [
    {
     "name": "stdout",
     "output_type": "stream",
     "text": [
      "  0.000573 seconds (6 allocations: 39.297 KiB)\n"
     ]
    }
   ],
   "source": [
    "#Generate reasonable data\n",
    "lat100 = rand(Float32, 100) .* 45\n",
    "lon100 = rand(Float32, 100) .* -120\n",
    "\n",
    "@time pairwise_dist(lat100, lon100);"
   ]
  },
  {
   "cell_type": "code",
   "execution_count": 6,
   "metadata": {},
   "outputs": [
    {
     "name": "stdout",
     "output_type": "stream",
     "text": [
      "  0.054927 seconds (6 allocations: 3.815 MiB)\n"
     ]
    }
   ],
   "source": [
    "lat1000 = rand(Float32, 1000) .* 45\n",
    "lon1000 = rand(Float32, 1000) .* -120\n",
    "\n",
    "@time pairwise_dist(lat1000, lon1000);"
   ]
  },
  {
   "cell_type": "code",
   "execution_count": 7,
   "metadata": {},
   "outputs": [
    {
     "name": "stdout",
     "output_type": "stream",
     "text": [
      "  6.011676 seconds (7 allocations: 381.470 MiB, 0.22% gc time)\n"
     ]
    }
   ],
   "source": [
    "lat10000 = rand(Float32, 10000) .* 45\n",
    "lon10000 = rand(Float32, 10000) .* -120\n",
    "\n",
    "@time native_julia_cellwise = pairwise_dist(lat10000, lon10000);"
   ]
  },
  {
   "cell_type": "code",
   "execution_count": null,
   "metadata": {
    "collapsed": true
   },
   "outputs": [],
   "source": [
    "lat100000 = rand(Float32, 100000) .* 45\n",
    "lon100000 = rand(Float32, 100000) .* -120\n",
    "\n",
    "@time pairwise_dist(lat100000, lon100000);"
   ]
  },
  {
   "cell_type": "markdown",
   "metadata": {},
   "source": [
    "### Julia implementation targeting CUDA"
   ]
  },
  {
   "cell_type": "code",
   "execution_count": 8,
   "metadata": {
    "collapsed": true
   },
   "outputs": [],
   "source": [
    "using CUDAnative, CUDAdrv"
   ]
  },
  {
   "cell_type": "code",
   "execution_count": 9,
   "metadata": {},
   "outputs": [
    {
     "data": {
      "text/plain": [
       "kernel_haversine (generic function with 1 method)"
      ]
     },
     "execution_count": 9,
     "metadata": {},
     "output_type": "execute_result"
    }
   ],
   "source": [
    "function kernel_haversine(latpoint::Float32, lonpoint::Float32, lat::AbstractVector{Float32}, lon::AbstractVector{Float32}, out::AbstractVector{Float32})\n",
    "    \n",
    "    #Thread index\n",
    "    #Need to do the n-1 dance, since CUDA expects 0 and Julia does 1-indexing\n",
    "    i = (blockIdx().x-1) * blockDim().x + threadIdx().x\n",
    "    \n",
    "    out[i] =  2 * 6372.8 * CUDAnative.asin(CUDAnative.sqrt(CUDAnative.sind((latpoint-lat[i])/2)^2 + CUDAnative.cosd(lat[i]) * CUDAnative.cosd(latpoint) * CUDAnative.sind((lonpoint - lon[i])/2)^2))\n",
    "\n",
    "    #Return nothing, since we're writing directly to the out array allocated on GPU\n",
    "    return nothing\n",
    "end"
   ]
  },
  {
   "cell_type": "code",
   "execution_count": 10,
   "metadata": {
    "scrolled": true
   },
   "outputs": [
    {
     "data": {
      "text/plain": [
       "distmat (generic function with 1 method)"
      ]
     },
     "execution_count": 10,
     "metadata": {},
     "output_type": "execute_result"
    }
   ],
   "source": [
    "#validated kernel_haversine/distmat returns same answer as CPU haversine method (not shown)\n",
    "function distmat(lat::Vector{Float32}, lon::Vector{Float32}; dev::CuDevice=CuDevice(0))\n",
    "\n",
    "    #Create a context\n",
    "    ctx = CuContext(dev)\n",
    "\n",
    "    #Change to objects with CUDA context\n",
    "    n = length(lat)\n",
    "    d_lat = CuArray(lat)\n",
    "    d_lon = CuArray(lon)\n",
    "    d_out = CuArray(Vector{Float32}(n))\n",
    "\n",
    "    #Calculate number of calculations, threads, blocks \n",
    "    len = n\n",
    "    threads = min(len, 1024)\n",
    "    blocks = Int(ceil(len/threads))\n",
    "    \n",
    "    #Julia side accumulation of results to relieve GPU memory pressure\n",
    "    accum = Array{Float32}(n, n)\n",
    "    \n",
    "    # run and time the test\n",
    "    secs = CUDAdrv.@elapsed begin\n",
    "        for i in 1:n\n",
    "            @cuda (blocks, threads) kernel_haversine(lat[i], lon[i], d_lat, d_lon, d_out)\n",
    "            accum[:, i] = Vector{Float32}(d_out)\n",
    "        end\n",
    "    end\n",
    "    \n",
    "    #Clean up context\n",
    "    destroy!(ctx)\n",
    "    \n",
    "    #Return timing and bring results back to Julia\n",
    "    return (secs, accum)\n",
    "    \n",
    "end"
   ]
  },
  {
   "cell_type": "code",
   "execution_count": 11,
   "metadata": {},
   "outputs": [
    {
     "data": {
      "text/plain": [
       "6.4018493f0"
      ]
     },
     "execution_count": 11,
     "metadata": {},
     "output_type": "execute_result"
    }
   ],
   "source": [
    "#Run kernel!!!\n",
    "timing, result = distmat(lat1, lon1)\n",
    "timing"
   ]
  },
  {
   "cell_type": "code",
   "execution_count": 12,
   "metadata": {},
   "outputs": [
    {
     "data": {
      "text/plain": [
       "0.18106991f0"
      ]
     },
     "execution_count": 12,
     "metadata": {},
     "output_type": "execute_result"
    }
   ],
   "source": [
    "#Run kernel!!!\n",
    "timing, result = distmat(lat10, lon10)\n",
    "timing"
   ]
  },
  {
   "cell_type": "code",
   "execution_count": 13,
   "metadata": {},
   "outputs": [
    {
     "data": {
      "text/plain": [
       "0.11326f0"
      ]
     },
     "execution_count": 13,
     "metadata": {},
     "output_type": "execute_result"
    }
   ],
   "source": [
    "#Run kernel!!!\n",
    "timing, result = distmat(lat100, lon100)\n",
    "timing"
   ]
  },
  {
   "cell_type": "code",
   "execution_count": 14,
   "metadata": {},
   "outputs": [
    {
     "data": {
      "text/plain": [
       "0.1480775f0"
      ]
     },
     "execution_count": 14,
     "metadata": {},
     "output_type": "execute_result"
    }
   ],
   "source": [
    "#Run kernel!!!\n",
    "timing, result = distmat(lat1000, lon1000)\n",
    "timing"
   ]
  },
  {
   "cell_type": "code",
   "execution_count": 15,
   "metadata": {},
   "outputs": [
    {
     "data": {
      "text/plain": [
       "0.76675004f0"
      ]
     },
     "execution_count": 15,
     "metadata": {},
     "output_type": "execute_result"
    }
   ],
   "source": [
    "#Run kernel!!!\n",
    "timing, result = distmat(lat10000, lon10000)\n",
    "timing"
   ]
  },
  {
   "cell_type": "code",
   "execution_count": 16,
   "metadata": {},
   "outputs": [
    {
     "data": {
      "text/plain": [
       "true"
      ]
     },
     "execution_count": 16,
     "metadata": {},
     "output_type": "execute_result"
    }
   ],
   "source": [
    "result ≈ native_julia_cellwise"
   ]
  },
  {
   "cell_type": "code",
   "execution_count": null,
   "metadata": {
    "collapsed": true
   },
   "outputs": [],
   "source": [
    "#Run kernel!!!\n",
    "timing, result = distmat(lat100000, lon100000)\n",
    "timing"
   ]
  },
  {
   "cell_type": "markdown",
   "metadata": {},
   "source": [
    "### Plot results"
   ]
  },
  {
   "cell_type": "code",
   "execution_count": 2,
   "metadata": {},
   "outputs": [
    {
     "data": {
      "text/html": [
       "\n",
       "<body>\n",
       "  <div id=\"EchartFMH\" style=\"height:400px;width:800px;\"></div>\n",
       "</body>\n",
       "\n",
       "  <script type=\"text/javascript\">\n",
       "\n",
       "      require.config({\n",
       "        paths: {\n",
       "          echarts: \"https://randyzwitch.github.io/ECharts.jl/js/echarts-3.6.2\"\n",
       "        }\n",
       "      });\n",
       "\n",
       "      require([\"echarts\"], function(echarts){\n",
       "\n",
       "          window.echarts = echarts\n",
       "\n",
       "          var obj = JSON.parse('{\"geo\":{\"label\":{\"normal\":{\"textStyle\":{\"color\":\"#000000\"}},\"emphasis\":{\"textStyle\":{\"color\":\"rgb(100,0,0)\"}}},\"itemStyle\":{\"normal\":{\"borderColor\":\"#444444\",\"borderWidth\":0.5,\"areaColor\":\"#eeeeee\"},\"emphasis\":{\"borderColor\":\"#444444\",\"borderWidth\":1,\"areaColor\":\"rgba(255,215,0,0.8)\"}}},\"parallel\":{\"itemStyle\":{\"normal\":{\"borderWidth\":0,\"borderColor\":\"#ccc\"},\"emphasis\":{\"borderWidth\":0,\"borderColor\":\"#ccc\"}}},\"markPoint\":{\"label\":{\"normal\":{\"textStyle\":{\"color\":\"#eeeeee\"}},\"emphasis\":{\"textStyle\":{\"color\":\"#eeeeee\"}}}},\"visualMap\":{\"color\":[\"#e01f54\",\"#e7dbc3\"]},\"funnel\":{\"itemStyle\":{\"normal\":{\"borderWidth\":0,\"borderColor\":\"#ccc\"},\"emphasis\":{\"borderWidth\":0,\"borderColor\":\"#ccc\"}}},\"bar\":{\"itemStyle\":{\"normal\":{\"barBorderColor\":\"#ccc\",\"barBorderWidth\":0},\"emphasis\":{\"barBorderColor\":\"#ccc\",\"barBorderWidth\":0}}},\"map\":{\"label\":{\"normal\":{\"textStyle\":{\"color\":\"#000000\"}},\"emphasis\":{\"textStyle\":{\"color\":\"rgb(100,0,0)\"}}},\"itemStyle\":{\"normal\":{\"borderColor\":\"#444444\",\"borderWidth\":0.5,\"areaColor\":\"#eeeeee\"},\"emphasis\":{\"borderColor\":\"#444444\",\"borderWidth\":1,\"areaColor\":\"rgba(255,215,0,0.8)\"}}},\"scatter\":{\"itemStyle\":{\"normal\":{\"borderWidth\":0,\"borderColor\":\"#ccc\"},\"emphasis\":{\"borderWidth\":0,\"borderColor\":\"#ccc\"}}},\"pie\":{\"itemStyle\":{\"normal\":{\"borderWidth\":0,\"borderColor\":\"#ccc\"},\"emphasis\":{\"borderWidth\":0,\"borderColor\":\"#ccc\"}}},\"graph\":{\"label\":{\"normal\":{\"textStyle\":{\"color\":\"#eeeeee\"}}},\"symbolSize\":4,\"itemStyle\":{\"normal\":{\"borderWidth\":0,\"borderColor\":\"#ccc\"}},\"smooth\":false,\"symbol\":\"emptyCircle\",\"color\":[\"#e01f54\",\"#001852\",\"#f5e8c8\",\"#b8d2c7\",\"#c6b38e\",\"#a4d8c2\",\"#f3d999\",\"#d3758f\",\"#dcc392\",\"#2e4783\",\"#82b6e9\",\"#ff6347\",\"#a092f1\",\"#0a915d\",\"#eaf889\",\"#6699FF\",\"#ff6666\",\"#3cb371\",\"#d5b158\",\"#38b6b6\"],\"lineStyle\":{\"normal\":{\"color\":\"#aaaaaa\",\"width\":1}}},\"backgroundColor\":\"rgba(0,0,0,0)\",\"line\":{\"symbolSize\":4,\"itemStyle\":{\"normal\":{\"borderWidth\":1}},\"smooth\":false,\"symbol\":\"emptyCircle\",\"lineStyle\":{\"normal\":{\"width\":2}}},\"candlestick\":{\"itemStyle\":{\"normal\":{\"borderColor0\":\"#b8d2c7\",\"color\":\"#e01f54\",\"borderColor\":\"#f5e8c8\",\"borderWidth\":1,\"color0\":\"#001852\"}}},\"sankey\":{\"itemStyle\":{\"normal\":{\"borderWidth\":0,\"borderColor\":\"#ccc\"},\"emphasis\":{\"borderWidth\":0,\"borderColor\":\"#ccc\"}}},\"valueAxis\":{\"axisLine\":{\"show\":true,\"lineStyle\":{\"color\":\"#333\"}},\"axisLabel\":{\"textStyle\":{\"color\":\"#333\"},\"show\":true},\"splitLine\":{\"show\":true,\"lineStyle\":{\"color\":[\"#ccc\"]}},\"splitArea\":{\"areaStyle\":{\"color\":[\"rgba(250,250,250,0.3)\",\"rgba(200,200,200,0.3)\"]},\"show\":false},\"axisTick\":{\"show\":true,\"lineStyle\":{\"color\":\"#333\"}}},\"toolbox\":{\"iconStyle\":{\"normal\":{\"borderColor\":\"#999999\"},\"emphasis\":{\"borderColor\":\"#666666\"}}},\"categoryAxis\":{\"axisLine\":{\"show\":true,\"lineStyle\":{\"color\":\"#333\"}},\"axisLabel\":{\"textStyle\":{\"color\":\"#333\"},\"show\":true},\"splitLine\":{\"show\":false,\"lineStyle\":{\"color\":[\"#ccc\"]}},\"splitArea\":{\"areaStyle\":{\"color\":[\"rgba(250,250,250,0.3)\",\"rgba(200,200,200,0.3)\"]},\"show\":false},\"axisTick\":{\"show\":true,\"lineStyle\":{\"color\":\"#333\"}}},\"tooltip\":{\"axisPointer\":{\"crossStyle\":{\"color\":\"#cccccc\",\"width\":1},\"lineStyle\":{\"color\":\"#cccccc\",\"width\":1}}},\"timeline\":{\"label\":{\"normal\":{\"textStyle\":{\"color\":\"#293c55\"}},\"emphasis\":{\"textStyle\":{\"color\":\"#293c55\"}}},\"controlStyle\":{\"normal\":{\"color\":\"#293c55\",\"borderColor\":\"#293c55\",\"borderWidth\":0.5},\"emphasis\":{\"color\":\"#293c55\",\"borderColor\":\"#293c55\",\"borderWidth\":0.5}},\"checkpointStyle\":{\"color\":\"#e43c59\",\"borderColor\":\"rgba(194,53,49,0.5)\"},\"itemStyle\":{\"normal\":{\"color\":\"#293c55\",\"borderWidth\":1},\"emphasis\":{\"color\":\"#a9334c\"}},\"lineStyle\":{\"color\":\"#293c55\",\"width\":1}},\"radar\":{\"symbolSize\":4,\"itemStyle\":{\"normal\":{\"borderWidth\":1}},\"smooth\":false,\"symbol\":\"emptyCircle\",\"lineStyle\":{\"normal\":{\"width\":2}}},\"logAxis\":{\"axisLine\":{\"show\":true,\"lineStyle\":{\"color\":\"#333\"}},\"axisLabel\":{\"textStyle\":{\"color\":\"#333\"},\"show\":true},\"splitLine\":{\"show\":true,\"lineStyle\":{\"color\":[\"#ccc\"]}},\"splitArea\":{\"areaStyle\":{\"color\":[\"rgba(250,250,250,0.3)\",\"rgba(200,200,200,0.3)\"]},\"show\":false},\"axisTick\":{\"show\":true,\"lineStyle\":{\"color\":\"#333\"}}},\"textStyle\":{},\"gauge\":{\"itemStyle\":{\"normal\":{\"borderWidth\":0,\"borderColor\":\"#ccc\"},\"emphasis\":{\"borderWidth\":0,\"borderColor\":\"#ccc\"}}},\"boxplot\":{\"itemStyle\":{\"normal\":{\"borderWidth\":1},\"emphasis\":{\"borderWidth\":2}}},\"color\":[\"#e01f54\",\"#001852\",\"#f5e8c8\",\"#b8d2c7\",\"#c6b38e\",\"#a4d8c2\",\"#f3d999\",\"#d3758f\",\"#dcc392\",\"#2e4783\",\"#82b6e9\",\"#ff6347\",\"#a092f1\",\"#0a915d\",\"#eaf889\",\"#6699FF\",\"#ff6666\",\"#3cb371\",\"#d5b158\",\"#38b6b6\"],\"title\":{\"textStyle\":{\"color\":\"#333333\"},\"subtextStyle\":{\"color\":\"#aaaaaa\"}},\"dataZoom\":{\"dataBackgroundColor\":\"rgba(47,69,84,0.3)\",\"textStyle\":{\"color\":\"#333333\"},\"handleSize\":\"100%\",\"handleColor\":\"#a7b7cc\",\"fillerColor\":\"rgba(167,183,204,0.4)\",\"backgroundColor\":\"rgba(47,69,84,0)\"},\"timeAxis\":{\"axisLine\":{\"show\":true,\"lineStyle\":{\"color\":\"#333\"}},\"axisLabel\":{\"textStyle\":{\"color\":\"#333\"},\"show\":true},\"splitLine\":{\"show\":true,\"lineStyle\":{\"color\":[\"#ccc\"]}},\"splitArea\":{\"areaStyle\":{\"color\":[\"rgba(250,250,250,0.3)\",\"rgba(200,200,200,0.3)\"]},\"show\":false},\"axisTick\":{\"show\":true,\"lineStyle\":{\"color\":\"#333\"}}},\"legend\":{\"textStyle\":{\"color\":\"#333333\"}}}');\n",
       "\n",
       "          // Initialize after dom ready\n",
       "          var myChart = echarts.init(document.getElementById(\"EchartFMH\"), obj);\n",
       "\n",
       "          // Load data into the ECharts instance\n",
       "          myChart.setOption({\"xAxis\":[{\"splitNumber\":5,\"axisLine\":{\"show\":false,\"onZero\":true,\"lineStyle\":{\"normal\":{},\"emphasis\":{}}},\"axisLabel\":{\"show\":true,\"interval\":\"auto\",\"rotate\":0,\"inside\":false,\"formatter\":\"{value}\",\"margin\":8},\"scale\":true,\"gridIndex\":0,\"name\":\"Matrix dimensions (square)\",\"minInterval\":0,\"zlevel\":0,\"triggerEvent\":false,\"z\":0,\"splitLine\":{\"show\":false,\"interval\":\"auto\",\"lineStyle\":{\"normal\":{},\"emphasis\":{}}},\"inverse\":false,\"nameLocation\":\"middle\",\"nameGap\":30,\"silent\":true,\"type\":\"log\"}],\"ec_charttype\":\"xy plot\",\"series\":[{\"name\":\"CPU\",\"yAxisIndex\":0,\"xAxisIndex\":0,\"smooth\":true,\"data\":[[1.0,6.0e-6],[10.0,1.7e-5],[100.0,0.001091],[1000.0,0.090409],[10000.0,5.620437],[100000.0,565.008425]],\"markLine\":{\"data\":[],\"lineStyle\":{\"normal\":{},\"emphasis\":{}}},\"large\":true,\"type\":\"line\",\"largeThreshold\":2000},{\"name\":\"GPU\",\"yAxisIndex\":0,\"xAxisIndex\":0,\"smooth\":true,\"data\":[[1.0,0.14232168],[10.0,0.15084915],[100.0,0.15897949],[1000.0,0.16998644],[10000.0,0.6376571],[100000.0,24.32015]],\"markLine\":{\"data\":[],\"lineStyle\":{\"normal\":{},\"emphasis\":{}}},\"large\":true,\"type\":\"line\",\"largeThreshold\":2000}],\"theme\":{\"geo\":{\"label\":{\"normal\":{\"textStyle\":{\"color\":\"#000000\"}},\"emphasis\":{\"textStyle\":{\"color\":\"rgb(100,0,0)\"}}},\"itemStyle\":{\"normal\":{\"borderColor\":\"#444444\",\"borderWidth\":0.5,\"areaColor\":\"#eeeeee\"},\"emphasis\":{\"borderColor\":\"#444444\",\"borderWidth\":1,\"areaColor\":\"rgba(255,215,0,0.8)\"}}},\"parallel\":{\"itemStyle\":{\"normal\":{\"borderWidth\":0,\"borderColor\":\"#ccc\"},\"emphasis\":{\"borderWidth\":0,\"borderColor\":\"#ccc\"}}},\"markPoint\":{\"label\":{\"normal\":{\"textStyle\":{\"color\":\"#eeeeee\"}},\"emphasis\":{\"textStyle\":{\"color\":\"#eeeeee\"}}}},\"visualMap\":{\"color\":[\"#e01f54\",\"#e7dbc3\"]},\"funnel\":{\"itemStyle\":{\"normal\":{\"borderWidth\":0,\"borderColor\":\"#ccc\"},\"emphasis\":{\"borderWidth\":0,\"borderColor\":\"#ccc\"}}},\"bar\":{\"itemStyle\":{\"normal\":{\"barBorderColor\":\"#ccc\",\"barBorderWidth\":0},\"emphasis\":{\"barBorderColor\":\"#ccc\",\"barBorderWidth\":0}}},\"map\":{\"label\":{\"normal\":{\"textStyle\":{\"color\":\"#000000\"}},\"emphasis\":{\"textStyle\":{\"color\":\"rgb(100,0,0)\"}}},\"itemStyle\":{\"normal\":{\"borderColor\":\"#444444\",\"borderWidth\":0.5,\"areaColor\":\"#eeeeee\"},\"emphasis\":{\"borderColor\":\"#444444\",\"borderWidth\":1,\"areaColor\":\"rgba(255,215,0,0.8)\"}}},\"scatter\":{\"itemStyle\":{\"normal\":{\"borderWidth\":0,\"borderColor\":\"#ccc\"},\"emphasis\":{\"borderWidth\":0,\"borderColor\":\"#ccc\"}}},\"pie\":{\"itemStyle\":{\"normal\":{\"borderWidth\":0,\"borderColor\":\"#ccc\"},\"emphasis\":{\"borderWidth\":0,\"borderColor\":\"#ccc\"}}},\"graph\":{\"label\":{\"normal\":{\"textStyle\":{\"color\":\"#eeeeee\"}}},\"symbolSize\":4,\"itemStyle\":{\"normal\":{\"borderWidth\":0,\"borderColor\":\"#ccc\"}},\"smooth\":false,\"symbol\":\"emptyCircle\",\"color\":[\"#e01f54\",\"#001852\",\"#f5e8c8\",\"#b8d2c7\",\"#c6b38e\",\"#a4d8c2\",\"#f3d999\",\"#d3758f\",\"#dcc392\",\"#2e4783\",\"#82b6e9\",\"#ff6347\",\"#a092f1\",\"#0a915d\",\"#eaf889\",\"#6699FF\",\"#ff6666\",\"#3cb371\",\"#d5b158\",\"#38b6b6\"],\"lineStyle\":{\"normal\":{\"color\":\"#aaaaaa\",\"width\":1}}},\"backgroundColor\":\"rgba(0,0,0,0)\",\"line\":{\"symbolSize\":4,\"itemStyle\":{\"normal\":{\"borderWidth\":1}},\"smooth\":false,\"symbol\":\"emptyCircle\",\"lineStyle\":{\"normal\":{\"width\":2}}},\"candlestick\":{\"itemStyle\":{\"normal\":{\"borderColor0\":\"#b8d2c7\",\"color\":\"#e01f54\",\"borderColor\":\"#f5e8c8\",\"borderWidth\":1,\"color0\":\"#001852\"}}},\"sankey\":{\"itemStyle\":{\"normal\":{\"borderWidth\":0,\"borderColor\":\"#ccc\"},\"emphasis\":{\"borderWidth\":0,\"borderColor\":\"#ccc\"}}},\"valueAxis\":{\"axisLine\":{\"show\":true,\"lineStyle\":{\"color\":\"#333\"}},\"axisLabel\":{\"textStyle\":{\"color\":\"#333\"},\"show\":true},\"splitLine\":{\"show\":true,\"lineStyle\":{\"color\":[\"#ccc\"]}},\"splitArea\":{\"areaStyle\":{\"color\":[\"rgba(250,250,250,0.3)\",\"rgba(200,200,200,0.3)\"]},\"show\":false},\"axisTick\":{\"show\":true,\"lineStyle\":{\"color\":\"#333\"}}},\"toolbox\":{\"iconStyle\":{\"normal\":{\"borderColor\":\"#999999\"},\"emphasis\":{\"borderColor\":\"#666666\"}}},\"categoryAxis\":{\"axisLine\":{\"show\":true,\"lineStyle\":{\"color\":\"#333\"}},\"axisLabel\":{\"textStyle\":{\"color\":\"#333\"},\"show\":true},\"splitLine\":{\"show\":false,\"lineStyle\":{\"color\":[\"#ccc\"]}},\"splitArea\":{\"areaStyle\":{\"color\":[\"rgba(250,250,250,0.3)\",\"rgba(200,200,200,0.3)\"]},\"show\":false},\"axisTick\":{\"show\":true,\"lineStyle\":{\"color\":\"#333\"}}},\"tooltip\":{\"axisPointer\":{\"crossStyle\":{\"color\":\"#cccccc\",\"width\":1},\"lineStyle\":{\"color\":\"#cccccc\",\"width\":1}}},\"timeline\":{\"label\":{\"normal\":{\"textStyle\":{\"color\":\"#293c55\"}},\"emphasis\":{\"textStyle\":{\"color\":\"#293c55\"}}},\"controlStyle\":{\"normal\":{\"color\":\"#293c55\",\"borderColor\":\"#293c55\",\"borderWidth\":0.5},\"emphasis\":{\"color\":\"#293c55\",\"borderColor\":\"#293c55\",\"borderWidth\":0.5}},\"checkpointStyle\":{\"color\":\"#e43c59\",\"borderColor\":\"rgba(194,53,49,0.5)\"},\"itemStyle\":{\"normal\":{\"color\":\"#293c55\",\"borderWidth\":1},\"emphasis\":{\"color\":\"#a9334c\"}},\"lineStyle\":{\"color\":\"#293c55\",\"width\":1}},\"radar\":{\"symbolSize\":4,\"itemStyle\":{\"normal\":{\"borderWidth\":1}},\"smooth\":false,\"symbol\":\"emptyCircle\",\"lineStyle\":{\"normal\":{\"width\":2}}},\"logAxis\":{\"axisLine\":{\"show\":true,\"lineStyle\":{\"color\":\"#333\"}},\"axisLabel\":{\"textStyle\":{\"color\":\"#333\"},\"show\":true},\"splitLine\":{\"show\":true,\"lineStyle\":{\"color\":[\"#ccc\"]}},\"splitArea\":{\"areaStyle\":{\"color\":[\"rgba(250,250,250,0.3)\",\"rgba(200,200,200,0.3)\"]},\"show\":false},\"axisTick\":{\"show\":true,\"lineStyle\":{\"color\":\"#333\"}}},\"textStyle\":{},\"gauge\":{\"itemStyle\":{\"normal\":{\"borderWidth\":0,\"borderColor\":\"#ccc\"},\"emphasis\":{\"borderWidth\":0,\"borderColor\":\"#ccc\"}}},\"boxplot\":{\"itemStyle\":{\"normal\":{\"borderWidth\":1},\"emphasis\":{\"borderWidth\":2}}},\"color\":[\"#e01f54\",\"#001852\",\"#f5e8c8\",\"#b8d2c7\",\"#c6b38e\",\"#a4d8c2\",\"#f3d999\",\"#d3758f\",\"#dcc392\",\"#2e4783\",\"#82b6e9\",\"#ff6347\",\"#a092f1\",\"#0a915d\",\"#eaf889\",\"#6699FF\",\"#ff6666\",\"#3cb371\",\"#d5b158\",\"#38b6b6\"],\"title\":{\"textStyle\":{\"color\":\"#333333\"},\"subtextStyle\":{\"color\":\"#aaaaaa\"}},\"dataZoom\":{\"dataBackgroundColor\":\"rgba(47,69,84,0.3)\",\"textStyle\":{\"color\":\"#333333\"},\"handleSize\":\"100%\",\"handleColor\":\"#a7b7cc\",\"fillerColor\":\"rgba(167,183,204,0.4)\",\"backgroundColor\":\"rgba(47,69,84,0)\"},\"timeAxis\":{\"axisLine\":{\"show\":true,\"lineStyle\":{\"color\":\"#333\"}},\"axisLabel\":{\"textStyle\":{\"color\":\"#333\"},\"show\":true},\"splitLine\":{\"show\":true,\"lineStyle\":{\"color\":[\"#ccc\"]}},\"splitArea\":{\"areaStyle\":{\"color\":[\"rgba(250,250,250,0.3)\",\"rgba(200,200,200,0.3)\"]},\"show\":false},\"axisTick\":{\"show\":true,\"lineStyle\":{\"color\":\"#333\"}}},\"legend\":{\"textStyle\":{\"color\":\"#333333\"}}},\"yAxis\":[{\"splitNumber\":5,\"axisLine\":{\"show\":false,\"onZero\":true,\"lineStyle\":{\"normal\":{},\"emphasis\":{}}},\"axisLabel\":{\"show\":true,\"interval\":\"auto\",\"rotate\":0,\"inside\":false,\"formatter\":\"{value}\",\"margin\":8},\"scale\":true,\"gridIndex\":0,\"name\":\"Time in seconds\",\"minInterval\":0,\"zlevel\":0,\"triggerEvent\":false,\"z\":0,\"inverse\":false,\"nameLocation\":\"middle\",\"nameGap\":50,\"silent\":true,\"type\":\"log\"}],\"toolbox\":{\"feature\":{},\"orient\":\"vertical\",\"itemSize\":15,\"height\":\"auto\",\"zlevel\":0,\"z\":2,\"itemGap\":20,\"right\":\"auto\",\"top\":\"center\",\"width\":\"auto\",\"show\":false,\"showTitle\":true},\"ec_width\":800,\"ec_height\":400,\"grid\":[{\"height\":\"auto\",\"show\":false,\"width\":\"auto\",\"backgroundColor\":\"transparent\"}],\"title\":[{\"left\":\"center\",\"borderColor\":\"transparent\",\"bottom\":\"auto\",\"padding\":5,\"zlevel\":0,\"borderWidth\":1,\"target\":\"blank\",\"z\":2,\"itemGap\":5,\"shadowOffsetY\":0,\"shadowOffsetX\":0,\"right\":\"auto\",\"top\":\"auto\",\"subtarget\":\"blank\",\"textStyle\":{\"fontFamily\":\"sans-serif\",\"fontStyle\":\"normal\",\"color\":\"#000\",\"fontSize\":14,\"fontWeight\":\"normal\"},\"show\":true,\"text\":\"Haversine distance: CPU vs. GPU\"}],\"legend\":{\"itemWidth\":25,\"data\":[\"CPU\",\"GPU\"],\"borderColor\":\"transparent\",\"orient\":\"horizontal\",\"bottom\":\"auto\",\"height\":\"auto\",\"zlevel\":0,\"padding\":5,\"borderWidth\":1,\"inactiveColor\":\"#ccc\",\"z\":2,\"align\":\"auto\",\"itemGap\":10,\"itemHeight\":14,\"backgroundColor\":\"transparent\",\"shadowOffsetY\":0,\"shadowOffsetX\":0,\"right\":\"right\",\"top\":\"middle\",\"width\":\"auto\",\"selectedMode\":true,\"show\":true}});\n",
       "\n",
       "      }); //echarts require end\n",
       "\n",
       "  </script>\n",
       "\n"
      ]
     },
     "metadata": {},
     "output_type": "display_data"
    },
    {
     "data": {
      "text/html": [],
      "text/plain": [
       "ECharts.EChart\n",
       "  ec_width: Int64 800\n",
       "  ec_height: Int64 400\n",
       "  ec_charttype: String \"xy plot\"\n",
       "  theme: ECharts.Theme\n",
       "  title: Array{ECharts.Title}((1,))\n",
       "  legend: ECharts.Legend\n",
       "  grid: Array{ECharts.Grid}((1,))\n",
       "  xAxis: Array{ECharts.Axis}((1,))\n",
       "  yAxis: Array{ECharts.Axis}((1,))\n",
       "  polar: Void nothing\n",
       "  radiusAxis: Void nothing\n",
       "  angleAxis: Void nothing\n",
       "  radar: Void nothing\n",
       "  dataZoom: Void nothing\n",
       "  visualMap: Void nothing\n",
       "  tooltip: Void nothing\n",
       "  axisPointer: Void nothing\n",
       "  toolbox: ECharts.Toolbox\n",
       "  geo: Void nothing\n",
       "  parallel: Void nothing\n",
       "  parallelAxis: Void nothing\n",
       "  singleAxis: Void nothing\n",
       "  timeline: Void nothing\n",
       "  graphic: Void nothing\n",
       "  calendar: Void nothing\n",
       "  series: Array{ECharts.Series}((2,))\n",
       "  color: Void nothing\n",
       "  backgroundColor: Void nothing\n",
       "  textStyle: Void nothing\n",
       "  animation: Void nothing\n",
       "  animationThreshold: Void nothing\n",
       "  animationDuration: Void nothing\n",
       "  animationEasing: Void nothing\n",
       "  animationDelay: Void nothing\n",
       "  animationDurationUpdate: Void nothing\n",
       "  animationEasingUpdate: Void nothing\n",
       "  animationDelayUpdate: Void nothing\n",
       "  useUTC: Void nothing\n"
      ]
     },
     "execution_count": 2,
     "metadata": {},
     "output_type": "execute_result"
    }
   ],
   "source": [
    "using ECharts\n",
    "\n",
    "vsize = [1, 10, 100, 1_000, 10_000, 100_000]\n",
    "native = [0.000006, 0.000017, 0.001091, 0.090409, 5.620437, 565.008425]\n",
    "gpu = [0.14232168, 0.15084915, 0.15897949, 0.16998644, 0.6376571, 24.32015]\n",
    "\n",
    "l = scatter(vsize, hcat(native, gpu), stack = false)\n",
    "smooth!(l)\n",
    "legend!(l, right = \"right\", top = \"middle\")\n",
    "[x._type = \"line\" for x in l.series]\n",
    "seriesnames!(l, [\"CPU\", \"GPU\"])\n",
    "yaxis!(l, name = \"Time in seconds\", _type = \"log\", scale = true, axisLine = AxisLine(show = false))\n",
    "xaxis!(l, name = \"Matrix dimensions (square)\", _type = \"log\", scale = true,  axisLine = AxisLine(show = false))\n",
    "title!(l, text = \"Haversine distance: CPU vs. GPU\", left = \"center\", textStyle = TextStyle(fontSize = 14))\n",
    "xgridlines!(l, show = false)"
   ]
  }
 ],
 "metadata": {
  "kernelspec": {
   "display_name": "Julia 0.6.1-pre",
   "language": "julia",
   "name": "julia-0.6"
  },
  "language_info": {
   "file_extension": ".jl",
   "mimetype": "application/julia",
   "name": "julia",
   "version": "0.6.1"
  }
 },
 "nbformat": 4,
 "nbformat_minor": 2
}
